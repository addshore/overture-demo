{
 "cells": [
  {
   "cell_type": "code",
   "execution_count": 3,
   "metadata": {},
   "outputs": [
    {
     "name": "stdout",
     "output_type": "stream",
     "text": [
      "Defaulting to user installation because normal site-packages is not writeable\n",
      "Requirement already satisfied: SPARQLWrapper in /home/adam/.local/lib/python3.10/site-packages (2.0.0)\n",
      "Requirement already satisfied: pandas in /home/adam/.local/lib/python3.10/site-packages (2.0.3)\n",
      "Requirement already satisfied: rdflib>=6.1.1 in /home/adam/.local/lib/python3.10/site-packages (from SPARQLWrapper) (6.3.2)\n",
      "Requirement already satisfied: python-dateutil>=2.8.2 in /home/adam/.local/lib/python3.10/site-packages (from pandas) (2.8.2)\n",
      "Requirement already satisfied: numpy>=1.21.0 in /home/adam/.local/lib/python3.10/site-packages (from pandas) (1.25.1)\n",
      "Requirement already satisfied: pytz>=2020.1 in /home/adam/.local/lib/python3.10/site-packages (from pandas) (2023.3)\n",
      "Requirement already satisfied: tzdata>=2022.1 in /home/adam/.local/lib/python3.10/site-packages (from pandas) (2023.3)\n",
      "Requirement already satisfied: six>=1.5 in /usr/lib/python3/dist-packages (from python-dateutil>=2.8.2->pandas) (1.16.0)\n",
      "Requirement already satisfied: pyparsing<4,>=2.1.0 in /usr/lib/python3/dist-packages (from rdflib>=6.1.1->SPARQLWrapper) (2.4.7)\n",
      "Requirement already satisfied: isodate<0.7.0,>=0.6.0 in /home/adam/.local/lib/python3.10/site-packages (from rdflib>=6.1.1->SPARQLWrapper) (0.6.1)\n",
      "Note: you may need to restart the kernel to use updated packages.\n",
      "Defaulting to user installation because normal site-packages is not writeable\n",
      "Requirement already satisfied: wikidataintegrator in /home/adam/.local/lib/python3.10/site-packages (0.9.30)\n",
      "Requirement already satisfied: pandas in /home/adam/.local/lib/python3.10/site-packages (from wikidataintegrator) (2.0.3)\n",
      "Requirement already satisfied: mwoauth in /home/adam/.local/lib/python3.10/site-packages (from wikidataintegrator) (0.3.8)\n",
      "Requirement already satisfied: requests in /home/adam/.local/lib/python3.10/site-packages (from wikidataintegrator) (2.31.0)\n",
      "Requirement already satisfied: simplejson in /home/adam/.local/lib/python3.10/site-packages (from wikidataintegrator) (3.19.1)\n",
      "Requirement already satisfied: jsonasobj in /home/adam/.local/lib/python3.10/site-packages (from wikidataintegrator) (1.3.1)\n",
      "Requirement already satisfied: python-dateutil in /home/adam/.local/lib/python3.10/site-packages (from wikidataintegrator) (2.8.2)\n",
      "Requirement already satisfied: pyshex in /home/adam/.local/lib/python3.10/site-packages (from wikidataintegrator) (0.8.1)\n",
      "Requirement already satisfied: shexer in /home/adam/.local/lib/python3.10/site-packages (from wikidataintegrator) (2.2.0)\n",
      "Requirement already satisfied: oauthlib in /usr/lib/python3/dist-packages (from wikidataintegrator) (3.2.0)\n",
      "Requirement already satisfied: backoff in /home/adam/.local/lib/python3.10/site-packages (from wikidataintegrator) (2.2.1)\n",
      "Requirement already satisfied: tqdm in /home/adam/.local/lib/python3.10/site-packages (from wikidataintegrator) (4.65.0)\n",
      "Requirement already satisfied: requests-oauthlib in /home/adam/.local/lib/python3.10/site-packages (from mwoauth->wikidataintegrator) (1.3.1)\n",
      "Requirement already satisfied: PyJWT>=1.0.1 in /usr/lib/python3/dist-packages (from mwoauth->wikidataintegrator) (2.3.0)\n",
      "Requirement already satisfied: six in /usr/lib/python3/dist-packages (from mwoauth->wikidataintegrator) (1.16.0)\n",
      "Requirement already satisfied: pytz>=2020.1 in /home/adam/.local/lib/python3.10/site-packages (from pandas->wikidataintegrator) (2023.3)\n",
      "Requirement already satisfied: tzdata>=2022.1 in /home/adam/.local/lib/python3.10/site-packages (from pandas->wikidataintegrator) (2023.3)\n",
      "Requirement already satisfied: numpy>=1.21.0 in /home/adam/.local/lib/python3.10/site-packages (from pandas->wikidataintegrator) (1.25.1)\n",
      "Requirement already satisfied: sparqlslurper>=0.5.1 in /home/adam/.local/lib/python3.10/site-packages (from pyshex->wikidataintegrator) (0.5.1)\n",
      "Requirement already satisfied: pyshexc==0.9.1 in /home/adam/.local/lib/python3.10/site-packages (from pyshex->wikidataintegrator) (0.9.1)\n",
      "Requirement already satisfied: rdflib-shim in /home/adam/.local/lib/python3.10/site-packages (from pyshex->wikidataintegrator) (1.0.3)\n",
      "Requirement already satisfied: sparqlwrapper>=1.8.5 in /home/adam/.local/lib/python3.10/site-packages (from pyshex->wikidataintegrator) (2.0.0)\n",
      "Requirement already satisfied: shexjsg>=0.8.2 in /home/adam/.local/lib/python3.10/site-packages (from pyshex->wikidataintegrator) (0.8.2)\n",
      "Requirement already satisfied: urllib3 in /home/adam/.local/lib/python3.10/site-packages (from pyshex->wikidataintegrator) (2.0.3)\n",
      "Requirement already satisfied: cfgraph>=0.2.1 in /home/adam/.local/lib/python3.10/site-packages (from pyshex->wikidataintegrator) (0.2.1)\n",
      "Requirement already satisfied: chardet in /home/adam/.local/lib/python3.10/site-packages (from pyshex->wikidataintegrator) (5.1.0)\n",
      "Requirement already satisfied: antlr4-python3-runtime~=4.9.3 in /home/adam/.local/lib/python3.10/site-packages (from pyshexc==0.9.1->pyshex->wikidataintegrator) (4.9.3)\n",
      "Requirement already satisfied: pyjsg>=0.11.10 in /home/adam/.local/lib/python3.10/site-packages (from pyshexc==0.9.1->pyshex->wikidataintegrator) (0.11.10)\n",
      "Requirement already satisfied: idna<4,>=2.5 in /home/adam/.local/lib/python3.10/site-packages (from requests->wikidataintegrator) (3.4)\n",
      "Requirement already satisfied: certifi>=2017.4.17 in /home/adam/.local/lib/python3.10/site-packages (from requests->wikidataintegrator) (2023.5.7)\n",
      "Requirement already satisfied: charset-normalizer<4,>=2 in /home/adam/.local/lib/python3.10/site-packages (from requests->wikidataintegrator) (3.1.0)\n",
      "Requirement already satisfied: rdflib in /home/adam/.local/lib/python3.10/site-packages (from shexer->wikidataintegrator) (6.3.2)\n",
      "Requirement already satisfied: Flask in /home/adam/.local/lib/python3.10/site-packages (from shexer->wikidataintegrator) (2.3.2)\n",
      "Requirement already satisfied: wlighter in /home/adam/.local/lib/python3.10/site-packages (from shexer->wikidataintegrator) (1.0.1)\n",
      "Requirement already satisfied: rdflib-jsonld in /home/adam/.local/lib/python3.10/site-packages (from shexer->wikidataintegrator) (0.6.1)\n",
      "Requirement already satisfied: Flask-Cors in /home/adam/.local/lib/python3.10/site-packages (from shexer->wikidataintegrator) (4.0.0)\n",
      "Requirement already satisfied: isodate<0.7.0,>=0.6.0 in /home/adam/.local/lib/python3.10/site-packages (from rdflib->shexer->wikidataintegrator) (0.6.1)\n",
      "Requirement already satisfied: pyparsing<4,>=2.1.0 in /usr/lib/python3/dist-packages (from rdflib->shexer->wikidataintegrator) (2.4.7)\n",
      "Requirement already satisfied: itsdangerous>=2.1.2 in /home/adam/.local/lib/python3.10/site-packages (from Flask->shexer->wikidataintegrator) (2.1.2)\n",
      "Requirement already satisfied: click>=8.1.3 in /home/adam/.local/lib/python3.10/site-packages (from Flask->shexer->wikidataintegrator) (8.1.5)\n",
      "Requirement already satisfied: blinker>=1.6.2 in /home/adam/.local/lib/python3.10/site-packages (from Flask->shexer->wikidataintegrator) (1.6.2)\n",
      "Requirement already satisfied: Werkzeug>=2.3.3 in /home/adam/.local/lib/python3.10/site-packages (from Flask->shexer->wikidataintegrator) (2.3.6)\n",
      "Requirement already satisfied: Jinja2>=3.1.2 in /home/adam/.local/lib/python3.10/site-packages (from Flask->shexer->wikidataintegrator) (3.1.2)\n",
      "Requirement already satisfied: MarkupSafe>=2.0 in /home/adam/.local/lib/python3.10/site-packages (from Jinja2>=3.1.2->Flask->shexer->wikidataintegrator) (2.1.3)\n",
      "Note: you may need to restart the kernel to use updated packages.\n",
      "Defaulting to user installation because normal site-packages is not writeable\n",
      "Requirement already satisfied: nbformat in /home/adam/.local/lib/python3.10/site-packages (5.9.1)\n",
      "Requirement already satisfied: jsonschema>=2.6 in /home/adam/.local/lib/python3.10/site-packages (from nbformat) (4.18.3)\n",
      "Requirement already satisfied: traitlets>=5.1 in /home/adam/.local/lib/python3.10/site-packages (from nbformat) (5.9.0)\n",
      "Requirement already satisfied: fastjsonschema in /home/adam/.local/lib/python3.10/site-packages (from nbformat) (2.17.1)\n",
      "Requirement already satisfied: jupyter-core in /home/adam/.local/lib/python3.10/site-packages (from nbformat) (5.3.1)\n",
      "Requirement already satisfied: jsonschema-specifications>=2023.03.6 in /home/adam/.local/lib/python3.10/site-packages (from jsonschema>=2.6->nbformat) (2023.6.1)\n",
      "Requirement already satisfied: attrs>=22.2.0 in /home/adam/.local/lib/python3.10/site-packages (from jsonschema>=2.6->nbformat) (23.1.0)\n",
      "Requirement already satisfied: rpds-py>=0.7.1 in /home/adam/.local/lib/python3.10/site-packages (from jsonschema>=2.6->nbformat) (0.8.10)\n",
      "Requirement already satisfied: referencing>=0.28.4 in /home/adam/.local/lib/python3.10/site-packages (from jsonschema>=2.6->nbformat) (0.29.1)\n",
      "Requirement already satisfied: platformdirs>=2.5 in /usr/lib/python3/dist-packages (from jupyter-core->nbformat) (2.5.1)\n",
      "Note: you may need to restart the kernel to use updated packages.\n"
     ]
    }
   ],
   "source": [
    "# And we need some stuff for Wikidata, Wikibase and SPARQL access\n",
    "%pip install SPARQLWrapper pandas\n",
    "%pip install wikidataintegrator\n",
    "\n",
    "# Needed to load other notebooks from a notebook (for code reuse)\n",
    "%pip install nbformat"
   ]
  }
 ],
 "metadata": {
  "kernelspec": {
   "display_name": "Python 3",
   "language": "python",
   "name": "python3"
  },
  "language_info": {
   "codemirror_mode": {
    "name": "ipython",
    "version": 3
   },
   "file_extension": ".py",
   "mimetype": "text/x-python",
   "name": "python",
   "nbconvert_exporter": "python",
   "pygments_lexer": "ipython3",
   "version": "3.10.6"
  },
  "orig_nbformat": 4
 },
 "nbformat": 4,
 "nbformat_minor": 2
}
