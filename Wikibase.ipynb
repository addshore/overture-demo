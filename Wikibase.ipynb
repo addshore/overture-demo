{
 "cells": [
  {
   "cell_type": "markdown",
   "metadata": {},
   "source": [
    "We need a couple of known things for this setup to work\n",
    "\n",
    "Initially that'll be a property that can be used to state what other properties map to\n",
    "\n",
    "As well as a property that can be used to say Items and Properties map to Wikidata."
   ]
  },
  {
   "cell_type": "code",
   "execution_count": 1,
   "metadata": {},
   "outputs": [
    {
     "name": "stdout",
     "output_type": "stream",
     "text": [
      "Error while writing to Wikidata\n",
      "Property already exists: Root map is P1\n",
      "Created property: Location is P28\n",
      "Error while writing to Wikidata\n",
      "Property already exists: Wikidata is P22\n",
      "These proeprties should now all exist\n"
     ]
    }
   ],
   "source": [
    "import json\n",
    "import re\n",
    "from wikidataintegrator import wdi_core, wdi_login\n",
    "\n",
    "with open('./.secret.json') as f:\n",
    "    data = json.load(f)\n",
    "    wb_username = data['demo_user']\n",
    "    wb_password = data['demo_password']\n",
    "wb_endpoint = 'https://overture-demo.wikibase.cloud/w/api.php'\n",
    "wb_login = wdi_login.WDLogin(user=wb_username, pwd=wb_password, mediawiki_api_url=wb_endpoint)\n",
    "\n",
    "# Define properties that need to exist in a map\n",
    "map = {\n",
    "    'root-map': {\n",
    "        \"label\": \"Root map\",\n",
    "        \"aliases\": [\"Maps to\"],\n",
    "        \"description\": \"Entity maps to source\",\n",
    "        \"datatype\": \"string\",\n",
    "    },\n",
    "    'location': {\n",
    "        \"label\": \"Location\",\n",
    "        \"aliases\": [\"Coordinate Location\", \"Coordinates\"],\n",
    "        \"description\": \"Location of the entity\",\n",
    "        \"datatype\": \"globe-coordinate\",\n",
    "    },\n",
    "    'wikidata': {\n",
    "        \"label\": \"Wikidata\",\n",
    "        \"aliases\": [\"Qid\", \"Wikidata ID\"],\n",
    "        \"datatype\": \"string\",\n",
    "        \"root-map\": \"wikidata\"\n",
    "    },\n",
    "}\n",
    "\n",
    "# Lookup to see if these properties already exist\n",
    "existing_properties = wdi_core.WDItemEngine.get_wd_search_results(list(map.keys()), mediawiki_api_url=wb_endpoint)\n",
    "for existing_property in existing_properties:\n",
    "    # TODO add the ID to the list :D but for now die as this didn't occour yet...\n",
    "    print(\"Property already exists: \" + existing_property['label'])\n",
    "    exit()\n",
    "\n",
    "# # Create properties\n",
    "for key, value in map.items():\n",
    "    if 'id' in value:\n",
    "        print(\"Property already exists: \" + value['label'] + \" is \" + value['id'])\n",
    "        continue\n",
    "    property = wdi_core.WDItemEngine(mediawiki_api_url=wb_endpoint)\n",
    "    property.set_label(value['label'])\n",
    "    if 'aliases' in value:\n",
    "        property.set_aliases(value['aliases'])\n",
    "    if 'description' in value:\n",
    "        property.set_description(value['description'])\n",
    "    if 'root-map' in value:\n",
    "        property.statements.append(wdi_core.WDString(value['root-map'], prop_nr=map['root-map']['id']))\n",
    "    # Write and catch errors, as wikibase.cloud can be a bit slow in allowing us to lookup existing things sometimes\n",
    "    try:\n",
    "        property.write(login=wb_login,entity_type='property', property_datatype=value['datatype'])\n",
    "        map[key]['id'] = property.wd_item_id\n",
    "        print(\"Created property: \" + value['label'] + \" is \" + property.wd_item_id)\n",
    "    except Exception as e:\n",
    "        if 'label-conflict' in str(e):\n",
    "            # Add it to the map\n",
    "            map[key]['id'] = re.search(r'\\[\\[Property:([^|]+)\\|', str(e)).group(1)\n",
    "            print(\"Property already exists: \" + value['label'] + \" is \" + map[key]['id'])\n",
    "        else:\n",
    "            print(\"Error creating property: \" + str(e))\n",
    "            exit()\n",
    "\n",
    "print(\"These proeprties should now all exist\")\n",
    "\n",
    "# Simplify the map\n",
    "for key, value in map.items():\n",
    "    map[key] = value['id']\n",
    "# And write to a file\n",
    "with open('./property_map.json', 'w') as f:\n",
    "    json.dump(map, f, indent=2)"
   ]
  }
 ],
 "metadata": {
  "kernelspec": {
   "display_name": "Python 3",
   "language": "python",
   "name": "python3"
  },
  "language_info": {
   "codemirror_mode": {
    "name": "ipython",
    "version": 3
   },
   "file_extension": ".py",
   "mimetype": "text/x-python",
   "name": "python",
   "nbconvert_exporter": "python",
   "pygments_lexer": "ipython3",
   "version": "3.10.6"
  },
  "orig_nbformat": 4
 },
 "nbformat": 4,
 "nbformat_minor": 2
}
