{
 "cells": [
  {
   "cell_type": "markdown",
   "metadata": {},
   "source": [
    "We need a couple of known things for this setup to work\n",
    "\n",
    "Initially that'll be a property that can be used to state what other properties map to\n",
    "\n",
    "As well as a property that can be used to say Items and Properties map to Wikidata."
   ]
  },
  {
   "cell_type": "code",
   "execution_count": 4,
   "metadata": {},
   "outputs": [],
   "source": [
    "from SPARQLWrapper import SPARQLWrapper, JSON\n",
    "from wikidataintegrator import wdi_core, wdi_login\n",
    "import pandas as pd\n",
    "import re\n",
    "import json\n",
    "\n",
    "%run 'Shared.ipynb'\n",
    "wbsparql = init_wb_sparql()\n",
    "wb_endpoint, wb_login = init_wb()"
   ]
  },
  {
   "cell_type": "code",
   "execution_count": 10,
   "metadata": {},
   "outputs": [],
   "source": [
    "# Entities used to describe the data\n",
    "entities = {\n",
    "    # Properties\n",
    "    'source': {\n",
    "        \"entity_type\": \"property\",\n",
    "        \"label\": \"Source\",\n",
    "        \"aliases\": [\"Data Source\", \"source\"],\n",
    "        \"description\": \"Source of the data or mapping. For example 'wikidata'\",\n",
    "        \"datatype\": \"string\",\n",
    "    },\n",
    "    'source-id': {\n",
    "        \"entity_type\": \"property\",\n",
    "        \"label\": \"Source ID\",\n",
    "        \"aliases\": [\"ID at Source\", \"source-id\", \"ID @ Source\"],\n",
    "        \"description\": \"ID of the item at the source. For example for 'wikidata' perhaps 'P123' or 'Q567'\",\n",
    "        \"datatype\": \"string\",\n",
    "    },\n",
    "    # Items\n",
    "    'wikidata': {\n",
    "        \"entity_type\": \"item\",\n",
    "        \"label\": \"Wikidata\",\n",
    "        \"aliases\": [\"wikidata\", \"wikidata.org\"],\n",
    "        \"description\": \"Wikidata is a free and open knowledge base that can be read and edited by both humans and machines.\",\n",
    "    },\n",
    "}"
   ]
  },
  {
   "cell_type": "code",
   "execution_count": 13,
   "metadata": {},
   "outputs": [
    {
     "name": "stdout",
     "output_type": "stream",
     "text": [
      "Entity already exists: Source is P347\n",
      "Entity already exists: Source ID is P348\n",
      "Created entity: wikidata is Q1\n",
      "These entities should now all exist\n"
     ]
    }
   ],
   "source": [
    "known_entities = {}\n",
    "with open('./map.json') as f:\n",
    "    known_entities = json.load(f)\n",
    "\n",
    "def save_known_map():\n",
    "    with open('./map.json', 'w') as f:\n",
    "        json.dump(known_entities, f)\n",
    "\n",
    "# Create Entities\n",
    "for key, value in entities.items():\n",
    "    if key in known_entities:\n",
    "        print(\"Entity already exists: \" + value['label'] + \" is \" + known_entities[key])\n",
    "        continue\n",
    "\n",
    "    entity = wdi_core.WDItemEngine(mediawiki_api_url=wb_endpoint)\n",
    "    entity.set_label(value['label'])\n",
    "    if 'aliases' in value:\n",
    "        entity.set_aliases(value['aliases'])\n",
    "    if 'description' in value:\n",
    "        entity.set_description(value['description'])\n",
    "\n",
    "    # Write and catch errors, as wikibase.cloud can be a bit slow in allowing us to lookup existing things sometimes\n",
    "    try:\n",
    "        if value['entity_type'] == 'item':\n",
    "            entity.write(login=wb_login)\n",
    "        elif value['entity_type'] == 'property':\n",
    "            entity.write(login=wb_login,entity_type=value['entity_type'], property_datatype=value['datatype'])\n",
    "        else:\n",
    "            print(\"Unknown entity type: \" + value['entity_type'])\n",
    "            exit()\n",
    "        \n",
    "        known_entities[key] = entity.wd_item_id\n",
    "        save_known_map()\n",
    "        print(\"Created entity: \" + key + \" is \" + entity.wd_item_id)\n",
    "    except Exception as e:\n",
    "        if 'label-conflict' in str(e):\n",
    "            known_entities[key] = re.search(r'\\[\\[(Property|Item):([^|]+)\\|', str(e)).group(2)\n",
    "            save_known_map()\n",
    "            print(\"Entity already exists: \" + key + \" is \" + map[key]['id'])\n",
    "        else:\n",
    "            print(\"Error creating entity: \" + str(e))\n",
    "            exit()\n",
    "\n",
    "print(\"These entities should now all exist\")\n"
   ]
  }
 ],
 "metadata": {
  "kernelspec": {
   "display_name": "Python 3",
   "language": "python",
   "name": "python3"
  },
  "language_info": {
   "codemirror_mode": {
    "name": "ipython",
    "version": 3
   },
   "file_extension": ".py",
   "mimetype": "text/x-python",
   "name": "python",
   "nbconvert_exporter": "python",
   "pygments_lexer": "ipython3",
   "version": "3.10.6"
  },
  "orig_nbformat": 4
 },
 "nbformat": 4,
 "nbformat_minor": 2
}
