{
 "cells": [
  {
   "cell_type": "code",
   "execution_count": 1,
   "metadata": {},
   "outputs": [],
   "source": [
    "\n",
    "from wikidataintegrator import wdi_core, wdi_login\n",
    "from SPARQLWrapper import SPARQLWrapper, JSON\n",
    "import json\n",
    "\n",
    "def init_wb():\n",
    "    with open('./.secret.json') as f:\n",
    "        data = json.load(f)\n",
    "        wb_username = data['demo_user']\n",
    "        wb_password = data['demo_password']\n",
    "    wb_endpoint = 'https://overture-demo.wikibase.cloud/w/api.php'\n",
    "    wb_login = wdi_login.WDLogin(user=wb_username, pwd=wb_password, mediawiki_api_url=wb_endpoint)\n",
    "    return wb_endpoint, wb_login\n",
    "\n",
    "def init_wd_sparql():\n",
    "    sparql = SPARQLWrapper(\"https://query.wikidata.org/sparql\")\n",
    "    sparql.setMethod(\"POST\")\n",
    "    sparql.setReturnFormat(JSON)\n",
    "    return sparql\n",
    "\n",
    "def init_wb_sparql():\n",
    "    sparql = SPARQLWrapper(\"https://overture-demo.wikibase.cloud/query/sparql\")\n",
    "    sparql.setMethod(\"POST\")\n",
    "    sparql.setReturnFormat(JSON)\n",
    "    return sparql\n"
   ]
  }
 ],
 "metadata": {
  "kernelspec": {
   "display_name": "Python 3",
   "language": "python",
   "name": "python3"
  },
  "language_info": {
   "codemirror_mode": {
    "name": "ipython",
    "version": 3
   },
   "file_extension": ".py",
   "mimetype": "text/x-python",
   "name": "python",
   "nbconvert_exporter": "python",
   "pygments_lexer": "ipython3",
   "version": "3.10.6"
  },
  "orig_nbformat": 4
 },
 "nbformat": 4,
 "nbformat_minor": 2
}
