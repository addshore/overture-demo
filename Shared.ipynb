{
 "cells": [
  {
   "cell_type": "markdown",
   "metadata": {},
   "source": [
    "Some basic stuff for connection to places..."
   ]
  },
  {
   "cell_type": "code",
   "execution_count": 1,
   "metadata": {},
   "outputs": [],
   "source": [
    "\n",
    "from wikidataintegrator import wdi_core, wdi_login\n",
    "from SPARQLWrapper import SPARQLWrapper, JSON\n",
    "import json\n",
    "\n",
    "def init_wb():\n",
    "    with open('./.secret.json') as f:\n",
    "        data = json.load(f)\n",
    "        wb_username = data['demo_user']\n",
    "        wb_password = data['demo_password']\n",
    "    wb_endpoint = 'https://overture-demo.wikibase.cloud/w/api.php'\n",
    "    wb_login = wdi_login.WDLogin(user=wb_username, pwd=wb_password, mediawiki_api_url=wb_endpoint)\n",
    "    return wb_endpoint, wb_login\n",
    "\n",
    "def init_wd_sparql():\n",
    "    sparql = SPARQLWrapper(\"https://query.wikidata.org/sparql\")\n",
    "    sparql.setMethod(\"POST\")\n",
    "    sparql.setReturnFormat(JSON)\n",
    "    return sparql\n",
    "\n",
    "def init_wb_sparql():\n",
    "    sparql = SPARQLWrapper(\"https://overture-demo.wikibase.cloud/query/sparql\")\n",
    "    sparql.setMethod(\"POST\")\n",
    "    sparql.setReturnFormat(JSON)\n",
    "    return sparql"
   ]
  },
  {
   "cell_type": "markdown",
   "metadata": {},
   "source": [
    "Interaction with the known list of stuff on the local wiki.\n",
    "This isn't needed, but speed things up while prototypeing a demo."
   ]
  },
  {
   "cell_type": "code",
   "execution_count": null,
   "metadata": {},
   "outputs": [],
   "source": [
    "def known_list():\n",
    "    with open('./map.json') as f:\n",
    "        return json.load(f)\n",
    "\n",
    "def known_lookup(name):\n",
    "    map = known_list()\n",
    "    if name in map:\n",
    "        return map[name]\n",
    "    else:\n",
    "        return \n",
    "\n",
    "def known_add(name, qid):\n",
    "    map = known_list()\n",
    "    map[name] = qid\n",
    "    with open('./map.json', 'w') as f:\n",
    "        json.dump(map, f, indent=2)"
   ]
  },
  {
   "cell_type": "markdown",
   "metadata": {},
   "source": [
    "Hacky interaction stuff"
   ]
  }
 ],
 "metadata": {
  "kernelspec": {
   "display_name": "Python 3",
   "language": "python",
   "name": "python3"
  },
  "language_info": {
   "codemirror_mode": {
    "name": "ipython",
    "version": 3
   },
   "file_extension": ".py",
   "mimetype": "text/x-python",
   "name": "python",
   "nbconvert_exporter": "python",
   "pygments_lexer": "ipython3",
   "version": "3.10.6"
  },
  "orig_nbformat": 4
 },
 "nbformat": 4,
 "nbformat_minor": 2
}
